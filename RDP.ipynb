{
  "nbformat": 4,
  "nbformat_minor": 0,
  "metadata": {
    "colab": {
      "name": "RDP.ipynb",
      "provenance": []
    },
    "kernelspec": {
      "name": "python3",
      "display_name": "Python 3"
    }
  },
  "cells": [
    {
      "cell_type": "code",
      "metadata": {
        "id": "60bh-kbablCV"
      },
      "source": [
        "! wget https://raw.githubusercontent.com/SirCrossar3/colabhacks2/main/RDP.sh?token=ATBZGVVHWPICB7OQTLWKM4DAH7R2C &> /dev/null\r\n",
        "! chmod +x RDP.sh\r\n",
        "! ./RDP.sh"
      ],
      "execution_count": null,
      "outputs": []
    }
  ]
}